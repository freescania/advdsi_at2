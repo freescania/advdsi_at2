{
 "cells": [
  {
   "cell_type": "code",
   "execution_count": 3,
   "id": "nominated-processor",
   "metadata": {},
   "outputs": [],
   "source": [
    "%load_ext autoreload\n",
    "%autoreload 2"
   ]
  },
  {
   "cell_type": "code",
   "execution_count": 4,
   "id": "premier-soldier",
   "metadata": {},
   "outputs": [],
   "source": [
    "import pandas as pd\n",
    "import numpy as np"
   ]
  },
  {
   "cell_type": "code",
   "execution_count": 5,
   "id": "silent-response",
   "metadata": {},
   "outputs": [],
   "source": [
    "file_url = 'https://raw.githubusercontent.com/aso-uts/applied_ds/master/unit3/dataset/Car%20Evaluation.csv'"
   ]
  },
  {
   "cell_type": "code",
   "execution_count": 6,
   "id": "homeless-glance",
   "metadata": {},
   "outputs": [],
   "source": [
    "df = pd.read_csv(file_url)"
   ]
  },
  {
   "cell_type": "code",
   "execution_count": 7,
   "id": "illegal-tomorrow",
   "metadata": {},
   "outputs": [
    {
     "name": "stdout",
     "output_type": "stream",
     "text": [
      "<class 'pandas.core.frame.DataFrame'>\n",
      "RangeIndex: 1728 entries, 0 to 1727\n",
      "Data columns (total 7 columns):\n",
      " #   Column            Non-Null Count  Dtype \n",
      "---  ------            --------------  ----- \n",
      " 0   buying_price      1728 non-null   object\n",
      " 1   maintenance_cost  1728 non-null   object\n",
      " 2   doors             1728 non-null   object\n",
      " 3   persons_capacity  1728 non-null   object\n",
      " 4   luggage_boot      1728 non-null   object\n",
      " 5   safety            1728 non-null   object\n",
      " 6   evaluation        1728 non-null   object\n",
      "dtypes: object(7)\n",
      "memory usage: 94.6+ KB\n"
     ]
    }
   ],
   "source": [
    "df.info()"
   ]
  },
  {
   "cell_type": "code",
   "execution_count": 8,
   "id": "closed-anchor",
   "metadata": {},
   "outputs": [],
   "source": [
    "df.to_csv('../data/raw/car_evaluation.csv', index=False)"
   ]
  },
  {
   "cell_type": "code",
   "execution_count": 9,
   "id": "introductory-arnold",
   "metadata": {},
   "outputs": [],
   "source": [
    "df_cleaned = df.copy()"
   ]
  },
  {
   "cell_type": "code",
   "execution_count": 10,
   "id": "asian-robinson",
   "metadata": {},
   "outputs": [],
   "source": [
    "cats_dict = {\n",
    "    'buying_price': [['low', 'med', 'high', 'vhigh']],\n",
    "    'maintenance_cost': [['low', 'med', 'high', 'vhigh']],\n",
    "    'doors': [['2', '3', '4', '5more']],\n",
    "    'persons_capacity': [['2', '4', 'more']],\n",
    "    'luggage_boot': [['small', 'med', 'big']],\n",
    "    'safety': [['low', 'med', 'high']],\n",
    "    'evaluation': [['unacc', 'acc', 'good', 'vgood']],\n",
    "}"
   ]
  },
  {
   "cell_type": "code",
   "execution_count": 11,
   "id": "provincial-tampa",
   "metadata": {},
   "outputs": [],
   "source": [
    "from sklearn.preprocessing import StandardScaler, OrdinalEncoder"
   ]
  },
  {
   "cell_type": "code",
   "execution_count": 12,
   "id": "unusual-johns",
   "metadata": {},
   "outputs": [],
   "source": [
    "for col, cats in cats_dict.items():\n",
    "    col_encoder = OrdinalEncoder(categories=cats)\n",
    "    df_cleaned[col] = col_encoder.fit_transform(df_cleaned[[col]])"
   ]
  },
  {
   "cell_type": "code",
   "execution_count": 13,
   "id": "herbal-palace",
   "metadata": {},
   "outputs": [],
   "source": [
    "num_cols = ['buying_price', 'maintenance_cost', 'doors', 'persons_capacity', 'luggage_boot', 'safety']"
   ]
  },
  {
   "cell_type": "code",
   "execution_count": 14,
   "id": "honest-nightmare",
   "metadata": {},
   "outputs": [],
   "source": [
    "sc = StandardScaler()"
   ]
  },
  {
   "cell_type": "code",
   "execution_count": 15,
   "id": "another-generation",
   "metadata": {},
   "outputs": [],
   "source": [
    "df_cleaned[num_cols] = sc.fit_transform(df_cleaned[num_cols])"
   ]
  },
  {
   "cell_type": "code",
   "execution_count": 16,
   "id": "instrumental-companion",
   "metadata": {},
   "outputs": [],
   "source": [
    "df_cleaned['evaluation'] = df_cleaned['evaluation'].astype(int)"
   ]
  },
  {
   "cell_type": "code",
   "execution_count": 17,
   "id": "amended-alpha",
   "metadata": {},
   "outputs": [
    {
     "data": {
      "text/html": [
       "<div>\n",
       "<style scoped>\n",
       "    .dataframe tbody tr th:only-of-type {\n",
       "        vertical-align: middle;\n",
       "    }\n",
       "\n",
       "    .dataframe tbody tr th {\n",
       "        vertical-align: top;\n",
       "    }\n",
       "\n",
       "    .dataframe thead th {\n",
       "        text-align: right;\n",
       "    }\n",
       "</style>\n",
       "<table border=\"1\" class=\"dataframe\">\n",
       "  <thead>\n",
       "    <tr style=\"text-align: right;\">\n",
       "      <th></th>\n",
       "      <th>buying_price</th>\n",
       "      <th>maintenance_cost</th>\n",
       "      <th>doors</th>\n",
       "      <th>persons_capacity</th>\n",
       "      <th>luggage_boot</th>\n",
       "      <th>safety</th>\n",
       "      <th>evaluation</th>\n",
       "    </tr>\n",
       "  </thead>\n",
       "  <tbody>\n",
       "    <tr>\n",
       "      <th>1723</th>\n",
       "      <td>-1.341641</td>\n",
       "      <td>-1.341641</td>\n",
       "      <td>1.341641</td>\n",
       "      <td>1.224745</td>\n",
       "      <td>0.000000</td>\n",
       "      <td>0.000000</td>\n",
       "      <td>2</td>\n",
       "    </tr>\n",
       "    <tr>\n",
       "      <th>1724</th>\n",
       "      <td>-1.341641</td>\n",
       "      <td>-1.341641</td>\n",
       "      <td>1.341641</td>\n",
       "      <td>1.224745</td>\n",
       "      <td>0.000000</td>\n",
       "      <td>1.224745</td>\n",
       "      <td>3</td>\n",
       "    </tr>\n",
       "    <tr>\n",
       "      <th>1725</th>\n",
       "      <td>-1.341641</td>\n",
       "      <td>-1.341641</td>\n",
       "      <td>1.341641</td>\n",
       "      <td>1.224745</td>\n",
       "      <td>1.224745</td>\n",
       "      <td>-1.224745</td>\n",
       "      <td>0</td>\n",
       "    </tr>\n",
       "    <tr>\n",
       "      <th>1726</th>\n",
       "      <td>-1.341641</td>\n",
       "      <td>-1.341641</td>\n",
       "      <td>1.341641</td>\n",
       "      <td>1.224745</td>\n",
       "      <td>1.224745</td>\n",
       "      <td>0.000000</td>\n",
       "      <td>2</td>\n",
       "    </tr>\n",
       "    <tr>\n",
       "      <th>1727</th>\n",
       "      <td>-1.341641</td>\n",
       "      <td>-1.341641</td>\n",
       "      <td>1.341641</td>\n",
       "      <td>1.224745</td>\n",
       "      <td>1.224745</td>\n",
       "      <td>1.224745</td>\n",
       "      <td>3</td>\n",
       "    </tr>\n",
       "  </tbody>\n",
       "</table>\n",
       "</div>"
      ],
      "text/plain": [
       "      buying_price  maintenance_cost     doors  persons_capacity  \\\n",
       "1723     -1.341641         -1.341641  1.341641          1.224745   \n",
       "1724     -1.341641         -1.341641  1.341641          1.224745   \n",
       "1725     -1.341641         -1.341641  1.341641          1.224745   \n",
       "1726     -1.341641         -1.341641  1.341641          1.224745   \n",
       "1727     -1.341641         -1.341641  1.341641          1.224745   \n",
       "\n",
       "      luggage_boot    safety  evaluation  \n",
       "1723      0.000000  0.000000           2  \n",
       "1724      0.000000  1.224745           3  \n",
       "1725      1.224745 -1.224745           0  \n",
       "1726      1.224745  0.000000           2  \n",
       "1727      1.224745  1.224745           3  "
      ]
     },
     "execution_count": 17,
     "metadata": {},
     "output_type": "execute_result"
    }
   ],
   "source": [
    "X = pd.DataFrame(df_cleaned.copy())\n",
    "df_cleaned.tail()"
   ]
  },
  {
   "cell_type": "code",
   "execution_count": 19,
   "id": "forced-blond",
   "metadata": {},
   "outputs": [],
   "source": [
    "import os\n",
    "os.chdir(r\"C:\\Users\\Angus\\Documents\\UTS MDSI\\Advanced DSI\\Projects\\advdsi_at2\\src\\data\")\n",
    "from sets import subset_x_y, split_sets_by_time, save_sets, split_sets_random\n",
    "os.chdir(r\"C:\\Users\\Angus\\Documents\\UTS MDSI\\Advanced DSI\\Projects\\advdsi_at2\\notebooks\") "
   ]
  },
  {
   "cell_type": "code",
   "execution_count": 21,
   "id": "small-charger",
   "metadata": {},
   "outputs": [],
   "source": [
    "# Solution\n",
    "X_train, y_train, X_val, y_val, X_test, y_test = split_sets_random(X, target_col='evaluation', test_ratio=0.2, to_numpy=True)\n"
   ]
  },
  {
   "cell_type": "code",
   "execution_count": 22,
   "id": "sonic-gambling",
   "metadata": {},
   "outputs": [
    {
     "data": {
      "text/plain": [
       "(1036, 6)"
      ]
     },
     "execution_count": 22,
     "metadata": {},
     "output_type": "execute_result"
    }
   ],
   "source": [
    "X_train.shape"
   ]
  },
  {
   "cell_type": "code",
   "execution_count": 24,
   "id": "imperial-circuit",
   "metadata": {},
   "outputs": [],
   "source": [
    "import torch\n",
    "import torch.nn as nn\n",
    "import torch.nn.functional as F"
   ]
  },
  {
   "cell_type": "code",
   "execution_count": 25,
   "id": "foreign-angola",
   "metadata": {},
   "outputs": [],
   "source": [
    "os.chdir(r\"C:\\Users\\Angus\\Documents\\UTS MDSI\\Advanced DSI\\Projects\\advdsi_at2\\src\\models\")\n",
    "from pytorch import PytorchDataset\n",
    "os.chdir(r\"C:\\Users\\Angus\\Documents\\UTS MDSI\\Advanced DSI\\Projects\\advdsi_at2\\notebooks\")"
   ]
  },
  {
   "cell_type": "code",
   "execution_count": 26,
   "id": "rocky-twenty",
   "metadata": {},
   "outputs": [],
   "source": [
    "train_dataset = PytorchDataset(X=X_train, y=y_train)\n",
    "val_dataset = PytorchDataset(X=X_val, y=y_val)\n",
    "test_dataset = PytorchDataset(X=X_test, y=y_test)"
   ]
  },
  {
   "cell_type": "code",
   "execution_count": 27,
   "id": "arabic-director",
   "metadata": {},
   "outputs": [],
   "source": [
    "os.chdir(r\"C:\\Users\\Angus\\Documents\\UTS MDSI\\Advanced DSI\\Projects\\advdsi_at2\\src\\models\")\n",
    "from null import NullModel\n",
    "from performance import print_class_perf\n",
    "from MClasspytorch import PytorchMultiClass, train_classification, test_classification\n",
    "os.chdir(r\"C:\\Users\\Angus\\Documents\\UTS MDSI\\Advanced DSI\\Projects\\advdsi_at2\\notebooks\")"
   ]
  },
  {
   "cell_type": "code",
   "execution_count": 28,
   "id": "dedicated-layout",
   "metadata": {},
   "outputs": [],
   "source": [
    "baseline_model = NullModel(target_type='classification')\n",
    "y_base = baseline_model.fit_predict(y_train)"
   ]
  },
  {
   "cell_type": "code",
   "execution_count": 29,
   "id": "patient-exchange",
   "metadata": {},
   "outputs": [
    {
     "name": "stdout",
     "output_type": "stream",
     "text": [
      "Accuracy Training: 0.6988416988416989\n",
      "F1 Training: 0.5749561249561249\n"
     ]
    }
   ],
   "source": [
    "print_class_perf(y_base, y_train, set_name='Training', average='weighted')"
   ]
  },
  {
   "cell_type": "code",
   "execution_count": 30,
   "id": "typical-language",
   "metadata": {},
   "outputs": [],
   "source": [
    "model = PytorchMultiClass(X_train.shape[1])"
   ]
  },
  {
   "cell_type": "code",
   "execution_count": 31,
   "id": "motivated-diversity",
   "metadata": {},
   "outputs": [],
   "source": [
    "### awkward fix\n",
    "device = torch.device('cpu')"
   ]
  },
  {
   "cell_type": "code",
   "execution_count": 32,
   "id": "alpine-jefferson",
   "metadata": {},
   "outputs": [
    {
     "data": {
      "text/plain": [
       "PytorchMultiClass(\n",
       "  (layer_1): Linear(in_features=6, out_features=32, bias=True)\n",
       "  (layer_out): Linear(in_features=32, out_features=4, bias=True)\n",
       "  (softmax): Softmax(dim=1)\n",
       ")"
      ]
     },
     "execution_count": 32,
     "metadata": {},
     "output_type": "execute_result"
    }
   ],
   "source": [
    "model.to(device)"
   ]
  },
  {
   "cell_type": "code",
   "execution_count": 33,
   "id": "proud-oxygen",
   "metadata": {},
   "outputs": [
    {
     "name": "stdout",
     "output_type": "stream",
     "text": [
      "PytorchMultiClass(\n",
      "  (layer_1): Linear(in_features=6, out_features=32, bias=True)\n",
      "  (layer_out): Linear(in_features=32, out_features=4, bias=True)\n",
      "  (softmax): Softmax(dim=1)\n",
      ")\n"
     ]
    }
   ],
   "source": [
    "print(model)"
   ]
  },
  {
   "cell_type": "code",
   "execution_count": 34,
   "id": "medium-integral",
   "metadata": {},
   "outputs": [],
   "source": [
    "criterion = nn.CrossEntropyLoss()"
   ]
  },
  {
   "cell_type": "code",
   "execution_count": 35,
   "id": "virtual-coach",
   "metadata": {},
   "outputs": [],
   "source": [
    "optimizer = torch.optim.Adam(model.parameters(), lr=0.1)"
   ]
  },
  {
   "cell_type": "code",
   "execution_count": null,
   "id": "conscious-naples",
   "metadata": {},
   "outputs": [],
   "source": []
  },
  {
   "cell_type": "code",
   "execution_count": 36,
   "id": "prescription-civilian",
   "metadata": {},
   "outputs": [],
   "source": [
    "N_EPOCHS = 50\n",
    "BATCH_SIZE = 32"
   ]
  },
  {
   "cell_type": "code",
   "execution_count": 37,
   "id": "julian-lighter",
   "metadata": {},
   "outputs": [
    {
     "name": "stderr",
     "output_type": "stream",
     "text": [
      "c:\\users\\angus\\appdata\\local\\programs\\python\\python38\\lib\\site-packages\\torch\\autograd\\__init__.py:130: UserWarning: CUDA initialization: Found no NVIDIA driver on your system. Please check that you have an NVIDIA GPU and installed a driver from http://www.nvidia.com/Download/index.aspx (Triggered internally at  ..\\c10\\cuda\\CUDAFunctions.cpp:100.)\n",
      "  Variable._execution_engine.run_backward(\n"
     ]
    },
    {
     "name": "stdout",
     "output_type": "stream",
     "text": [
      "Epoch: 0\n",
      "\t(train)\t|\tLoss: 0.0316\t|\tAcc: 74.2%\n",
      "\t(valid)\t|\tLoss: 0.0302\t|\tAcc: 78.9%\n",
      "Epoch: 1\n",
      "\t(train)\t|\tLoss: 0.0295\t|\tAcc: 81.5%\n",
      "\t(valid)\t|\tLoss: 0.0284\t|\tAcc: 84.7%\n",
      "Epoch: 2\n",
      "\t(train)\t|\tLoss: 0.0286\t|\tAcc: 84.5%\n",
      "\t(valid)\t|\tLoss: 0.0283\t|\tAcc: 85.3%\n",
      "Epoch: 3\n",
      "\t(train)\t|\tLoss: 0.0293\t|\tAcc: 82.2%\n",
      "\t(valid)\t|\tLoss: 0.0280\t|\tAcc: 86.7%\n",
      "Epoch: 4\n",
      "\t(train)\t|\tLoss: 0.0282\t|\tAcc: 85.8%\n",
      "\t(valid)\t|\tLoss: 0.0288\t|\tAcc: 83.5%\n",
      "Epoch: 5\n",
      "\t(train)\t|\tLoss: 0.0288\t|\tAcc: 83.5%\n",
      "\t(valid)\t|\tLoss: 0.0280\t|\tAcc: 86.4%\n",
      "Epoch: 6\n",
      "\t(train)\t|\tLoss: 0.0281\t|\tAcc: 86.1%\n",
      "\t(valid)\t|\tLoss: 0.0276\t|\tAcc: 87.6%\n",
      "Epoch: 7\n",
      "\t(train)\t|\tLoss: 0.0283\t|\tAcc: 85.6%\n",
      "\t(valid)\t|\tLoss: 0.0291\t|\tAcc: 82.7%\n",
      "Epoch: 8\n",
      "\t(train)\t|\tLoss: 0.0285\t|\tAcc: 84.6%\n",
      "\t(valid)\t|\tLoss: 0.0274\t|\tAcc: 88.2%\n",
      "Epoch: 9\n",
      "\t(train)\t|\tLoss: 0.0283\t|\tAcc: 85.4%\n",
      "\t(valid)\t|\tLoss: 0.0277\t|\tAcc: 87.3%\n",
      "Epoch: 10\n",
      "\t(train)\t|\tLoss: 0.0283\t|\tAcc: 86.0%\n",
      "\t(valid)\t|\tLoss: 0.0274\t|\tAcc: 88.2%\n",
      "Epoch: 11\n",
      "\t(train)\t|\tLoss: 0.0282\t|\tAcc: 86.1%\n",
      "\t(valid)\t|\tLoss: 0.0276\t|\tAcc: 87.6%\n",
      "Epoch: 12\n",
      "\t(train)\t|\tLoss: 0.0280\t|\tAcc: 86.6%\n",
      "\t(valid)\t|\tLoss: 0.0275\t|\tAcc: 88.2%\n",
      "Epoch: 13\n",
      "\t(train)\t|\tLoss: 0.0280\t|\tAcc: 86.3%\n",
      "\t(valid)\t|\tLoss: 0.0280\t|\tAcc: 86.4%\n",
      "Epoch: 14\n",
      "\t(train)\t|\tLoss: 0.0285\t|\tAcc: 84.6%\n",
      "\t(valid)\t|\tLoss: 0.0279\t|\tAcc: 86.7%\n",
      "Epoch: 15\n",
      "\t(train)\t|\tLoss: 0.0281\t|\tAcc: 85.9%\n",
      "\t(valid)\t|\tLoss: 0.0275\t|\tAcc: 87.9%\n",
      "Epoch: 16\n",
      "\t(train)\t|\tLoss: 0.0281\t|\tAcc: 86.3%\n",
      "\t(valid)\t|\tLoss: 0.0274\t|\tAcc: 88.2%\n",
      "Epoch: 17\n",
      "\t(train)\t|\tLoss: 0.0282\t|\tAcc: 85.8%\n",
      "\t(valid)\t|\tLoss: 0.0277\t|\tAcc: 87.6%\n",
      "Epoch: 18\n",
      "\t(train)\t|\tLoss: 0.0279\t|\tAcc: 86.6%\n",
      "\t(valid)\t|\tLoss: 0.0274\t|\tAcc: 87.9%\n",
      "Epoch: 19\n",
      "\t(train)\t|\tLoss: 0.0277\t|\tAcc: 87.5%\n",
      "\t(valid)\t|\tLoss: 0.0279\t|\tAcc: 87.0%\n",
      "Epoch: 20\n",
      "\t(train)\t|\tLoss: 0.0278\t|\tAcc: 87.3%\n",
      "\t(valid)\t|\tLoss: 0.0279\t|\tAcc: 86.7%\n",
      "Epoch: 21\n",
      "\t(train)\t|\tLoss: 0.0281\t|\tAcc: 85.9%\n",
      "\t(valid)\t|\tLoss: 0.0283\t|\tAcc: 85.5%\n",
      "Epoch: 22\n",
      "\t(train)\t|\tLoss: 0.0280\t|\tAcc: 86.2%\n",
      "\t(valid)\t|\tLoss: 0.0282\t|\tAcc: 85.5%\n",
      "Epoch: 23\n",
      "\t(train)\t|\tLoss: 0.0279\t|\tAcc: 86.5%\n",
      "\t(valid)\t|\tLoss: 0.0284\t|\tAcc: 85.3%\n",
      "Epoch: 24\n",
      "\t(train)\t|\tLoss: 0.0281\t|\tAcc: 85.9%\n",
      "\t(valid)\t|\tLoss: 0.0287\t|\tAcc: 84.1%\n",
      "Epoch: 25\n",
      "\t(train)\t|\tLoss: 0.0279\t|\tAcc: 86.5%\n",
      "\t(valid)\t|\tLoss: 0.0283\t|\tAcc: 85.0%\n",
      "Epoch: 26\n",
      "\t(train)\t|\tLoss: 0.0278\t|\tAcc: 87.3%\n",
      "\t(valid)\t|\tLoss: 0.0285\t|\tAcc: 84.7%\n",
      "Epoch: 27\n",
      "\t(train)\t|\tLoss: 0.0278\t|\tAcc: 86.8%\n",
      "\t(valid)\t|\tLoss: 0.0278\t|\tAcc: 87.0%\n",
      "Epoch: 28\n",
      "\t(train)\t|\tLoss: 0.0277\t|\tAcc: 87.5%\n",
      "\t(valid)\t|\tLoss: 0.0276\t|\tAcc: 87.6%\n",
      "Epoch: 29\n",
      "\t(train)\t|\tLoss: 0.0276\t|\tAcc: 87.5%\n",
      "\t(valid)\t|\tLoss: 0.0273\t|\tAcc: 88.4%\n",
      "Epoch: 30\n",
      "\t(train)\t|\tLoss: 0.0276\t|\tAcc: 87.7%\n",
      "\t(valid)\t|\tLoss: 0.0271\t|\tAcc: 89.3%\n",
      "Epoch: 31\n",
      "\t(train)\t|\tLoss: 0.0278\t|\tAcc: 87.3%\n",
      "\t(valid)\t|\tLoss: 0.0273\t|\tAcc: 88.4%\n",
      "Epoch: 32\n",
      "\t(train)\t|\tLoss: 0.0279\t|\tAcc: 87.1%\n",
      "\t(valid)\t|\tLoss: 0.0272\t|\tAcc: 88.7%\n",
      "Epoch: 33\n",
      "\t(train)\t|\tLoss: 0.0279\t|\tAcc: 86.8%\n",
      "\t(valid)\t|\tLoss: 0.0279\t|\tAcc: 87.0%\n",
      "Epoch: 34\n",
      "\t(train)\t|\tLoss: 0.0279\t|\tAcc: 86.7%\n",
      "\t(valid)\t|\tLoss: 0.0286\t|\tAcc: 84.1%\n",
      "Epoch: 35\n",
      "\t(train)\t|\tLoss: 0.0280\t|\tAcc: 86.6%\n",
      "\t(valid)\t|\tLoss: 0.0282\t|\tAcc: 85.5%\n",
      "Epoch: 36\n",
      "\t(train)\t|\tLoss: 0.0274\t|\tAcc: 88.3%\n",
      "\t(valid)\t|\tLoss: 0.0286\t|\tAcc: 84.1%\n",
      "Epoch: 37\n",
      "\t(train)\t|\tLoss: 0.0278\t|\tAcc: 86.9%\n",
      "\t(valid)\t|\tLoss: 0.0283\t|\tAcc: 85.3%\n",
      "Epoch: 38\n",
      "\t(train)\t|\tLoss: 0.0276\t|\tAcc: 87.5%\n",
      "\t(valid)\t|\tLoss: 0.0275\t|\tAcc: 87.6%\n",
      "Epoch: 39\n",
      "\t(train)\t|\tLoss: 0.0278\t|\tAcc: 87.3%\n",
      "\t(valid)\t|\tLoss: 0.0277\t|\tAcc: 87.3%\n",
      "Epoch: 40\n",
      "\t(train)\t|\tLoss: 0.0277\t|\tAcc: 87.5%\n",
      "\t(valid)\t|\tLoss: 0.0275\t|\tAcc: 87.9%\n",
      "Epoch: 41\n",
      "\t(train)\t|\tLoss: 0.0273\t|\tAcc: 88.6%\n",
      "\t(valid)\t|\tLoss: 0.0273\t|\tAcc: 88.4%\n",
      "Epoch: 42\n",
      "\t(train)\t|\tLoss: 0.0277\t|\tAcc: 87.4%\n",
      "\t(valid)\t|\tLoss: 0.0275\t|\tAcc: 87.9%\n",
      "Epoch: 43\n",
      "\t(train)\t|\tLoss: 0.0276\t|\tAcc: 87.5%\n",
      "\t(valid)\t|\tLoss: 0.0273\t|\tAcc: 88.4%\n",
      "Epoch: 44\n",
      "\t(train)\t|\tLoss: 0.0278\t|\tAcc: 87.1%\n",
      "\t(valid)\t|\tLoss: 0.0272\t|\tAcc: 88.7%\n",
      "Epoch: 45\n",
      "\t(train)\t|\tLoss: 0.0275\t|\tAcc: 87.7%\n",
      "\t(valid)\t|\tLoss: 0.0279\t|\tAcc: 86.4%\n",
      "Epoch: 46\n",
      "\t(train)\t|\tLoss: 0.0278\t|\tAcc: 87.3%\n",
      "\t(valid)\t|\tLoss: 0.0268\t|\tAcc: 90.2%\n",
      "Epoch: 47\n",
      "\t(train)\t|\tLoss: 0.0277\t|\tAcc: 87.2%\n",
      "\t(valid)\t|\tLoss: 0.0273\t|\tAcc: 88.7%\n",
      "Epoch: 48\n",
      "\t(train)\t|\tLoss: 0.0280\t|\tAcc: 86.7%\n",
      "\t(valid)\t|\tLoss: 0.0273\t|\tAcc: 88.7%\n",
      "Epoch: 49\n",
      "\t(train)\t|\tLoss: 0.0277\t|\tAcc: 87.4%\n",
      "\t(valid)\t|\tLoss: 0.0272\t|\tAcc: 88.7%\n"
     ]
    }
   ],
   "source": [
    "for epoch in range(N_EPOCHS):\n",
    "    train_loss, train_acc = train_classification(train_dataset, model=model, criterion=criterion, optimizer=optimizer, batch_size=BATCH_SIZE, device=device)\n",
    "    valid_loss, valid_acc = test_classification(val_dataset, model=model, criterion=criterion, batch_size=BATCH_SIZE, device=device)\n",
    "\n",
    "    print(f'Epoch: {epoch}')\n",
    "    print(f'\\t(train)\\t|\\tLoss: {train_loss:.4f}\\t|\\tAcc: {train_acc * 100:.1f}%')\n",
    "    print(f'\\t(valid)\\t|\\tLoss: {valid_loss:.4f}\\t|\\tAcc: {valid_acc * 100:.1f}%')"
   ]
  },
  {
   "cell_type": "code",
   "execution_count": 58,
   "id": "durable-mobile",
   "metadata": {},
   "outputs": [],
   "source": [
    "torch.save(model, \"../models/pytorch_multi_car_evaluation.pt\")"
   ]
  },
  {
   "cell_type": "code",
   "execution_count": 59,
   "id": "proved-vanilla",
   "metadata": {},
   "outputs": [
    {
     "name": "stdout",
     "output_type": "stream",
     "text": [
      "\tLoss: 0.0307\t|\tAccuracy: 0.8\n"
     ]
    }
   ],
   "source": [
    "test_loss, test_acc = test_classification(test_dataset, model=model, criterion=criterion, batch_size=BATCH_SIZE, device=device)\n",
    "print(f'\\tLoss: {test_loss:.4f}\\t|\\tAccuracy: {test_acc:.1f}')"
   ]
  },
  {
   "cell_type": "code",
   "execution_count": null,
   "id": "elementary-beast",
   "metadata": {},
   "outputs": [],
   "source": []
  }
 ],
 "metadata": {
  "kernelspec": {
   "display_name": "Python 3",
   "language": "python",
   "name": "python3"
  },
  "language_info": {
   "codemirror_mode": {
    "name": "ipython",
    "version": 3
   },
   "file_extension": ".py",
   "mimetype": "text/x-python",
   "name": "python",
   "nbconvert_exporter": "python",
   "pygments_lexer": "ipython3",
   "version": "3.8.7"
  }
 },
 "nbformat": 4,
 "nbformat_minor": 5
}
